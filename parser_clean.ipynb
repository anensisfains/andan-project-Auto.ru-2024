{
 "cells": [
  {
   "cell_type": "code",
   "execution_count": null,
   "metadata": {},
   "outputs": [],
   "source": [
    "import requests\n",
    "from bs4 import BeautifulSoup\n",
    "import bs4\n",
    "from selenium import webdriver\n",
    "from selenium.webdriver.chrome.service import Service\n",
    "service = Service()\n",
    "options = webdriver.ChromeOptions()\n",
    "driver = webdriver.Chrome(service=service, options=options)"
   ]
  },
  {
   "cell_type": "code",
   "execution_count": null,
   "metadata": {},
   "outputs": [],
   "source": [
    "def get_pages(url):\n",
    "    driver.get(url)\n",
    "    soup = BeautifulSoup(driver.page_source, 'html')\n",
    "    dirty_hrefs = soup.find_all('a', attrs={'class': 'Link ListingItemTitle__link'})\n",
    "    clean_hrefs = [a['href'] for a in dirty_hrefs]\n",
    "    return clean_hrefs"
   ]
  },
  {
   "cell_type": "code",
   "execution_count": null,
   "metadata": {},
   "outputs": [],
   "source": [
    "all_pages = []\n",
    "for i in range(2, 71):\n",
    "    url = f'https://auto.ru/moskva/cars/vendor-chinese/used/?page={i}'\n",
    "    page_pages = get_pages(url)\n",
    "    for page in page_pages:\n",
    "        all_pages.append(page)"
   ]
  },
  {
   "cell_type": "code",
   "execution_count": null,
   "metadata": {},
   "outputs": [],
   "source": [
    "def base_char(url):\n",
    "    driver.get(url)\n",
    "    soup = BeautifulSoup(driver.page_source, 'html')\n",
    "    # название\n",
    "    car_name = soup.find('h1', attrs={\"class\": \"CardHead__title\"}).text.split(',')[0]\n",
    "    # цена\n",
    "    price = int(soup.find('span', {'class': 'OfferPriceCaption__price'}).text.replace(u'\\xa0', '')[:-1])\n",
    "    # километраж\n",
    "    km_age = soup.find('li', attrs={'class': \"CardInfoRow CardInfoRow_kmAge\"})\n",
    "    km_age = km_age.find_all('span', attrs={'class': 'CardInfoRow__cell'})\n",
    "    km_age = int(km_age[1].text.split()[0])\n",
    "    # год\n",
    "    year = soup.find('li', attrs={'class': \"CardInfoRow CardInfoRow_year\"})\n",
    "    year = year.find_all('span', attrs={'class': 'CardInfoRow__cell'})\n",
    "    year = int(year[1].text.split()[0])\n",
    "    return car_name, price, year, km_age\n",
    "\n",
    "url = \"https://auto.ru/cars/used/sale/byd/yangwang_u8/1123222616-1f0f709e/\"\n",
    "print(base_char(url))"
   ]
  }
 ],
 "metadata": {
  "language_info": {
   "name": "python"
  },
  "orig_nbformat": 4
 },
 "nbformat": 4,
 "nbformat_minor": 2
}
